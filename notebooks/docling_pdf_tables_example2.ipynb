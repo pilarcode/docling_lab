{
 "cells": [
  {
   "cell_type": "markdown",
   "metadata": {},
   "source": [
    "### Export tables\n",
    "\n",
    "https://ds4sd.github.io/docling/examples/export_tables/"
   ]
  },
  {
   "cell_type": "code",
   "execution_count": 1,
   "metadata": {},
   "outputs": [],
   "source": [
    "import logging\n",
    "import time\n",
    "from pathlib import Path\n",
    "import pandas as pd\n",
    "from docling.document_converter import DocumentConverter"
   ]
  },
  {
   "cell_type": "code",
   "execution_count": 2,
   "metadata": {},
   "outputs": [],
   "source": [
    "_log = logging.getLogger(__name__)"
   ]
  },
  {
   "cell_type": "code",
   "execution_count": 3,
   "metadata": {},
   "outputs": [],
   "source": [
    "def main(pdf_file:str, output_dir:str):\n",
    "    logging.basicConfig(level=logging.INFO)\n",
    "\n",
    "    input_doc_path = Path(pdf_file)\n",
    "    output_dir = Path(output_dir)\n",
    "\n",
    "    doc_converter = DocumentConverter()\n",
    "\n",
    "    start_time = time.time()\n",
    "\n",
    "    conv_res = doc_converter.convert(input_doc_path)\n",
    "\n",
    "    output_dir.mkdir(parents=True, exist_ok=True)\n",
    "\n",
    "    doc_filename = conv_res.input.file.stem\n",
    "\n",
    "    # Export tables\n",
    "    for table_ix, table in enumerate(conv_res.document.tables):\n",
    "        table_df: pd.DataFrame = table.export_to_dataframe()\n",
    "        print(f\"## Table {table_ix}\")\n",
    "        print(table_df.to_markdown())\n",
    "\n",
    "        # Save the table as csv\n",
    "        element_csv_filename = output_dir / f\"{doc_filename}-table-{table_ix+1}.csv\"\n",
    "        _log.info(f\"Saving CSV table to {element_csv_filename}\")\n",
    "        table_df.to_csv(element_csv_filename)\n",
    "\n",
    "        # Save the table as html\n",
    "        element_html_filename = output_dir / f\"{doc_filename}-table-{table_ix+1}.html\"\n",
    "        _log.info(f\"Saving HTML table to {element_html_filename}\")\n",
    "        with element_html_filename.open(\"w\") as fp:\n",
    "            fp.write(table.export_to_html())\n",
    "\n",
    "    end_time = time.time() - start_time\n",
    "\n",
    "    _log.info(f\"Document converted and tables exported in {end_time:.2f} seconds.\")\n",
    "\n",
    "\n"
   ]
  },
  {
   "cell_type": "code",
   "execution_count": 4,
   "metadata": {},
   "outputs": [
    {
     "name": "stderr",
     "output_type": "stream",
     "text": [
      "INFO:docling.document_converter:Going to convert document batch...\n",
      "INFO:docling.utils.accelerator_utils:Accelerator device: 'cpu'\n",
      "INFO:docling.utils.accelerator_utils:Accelerator device: 'cpu'\n",
      "INFO:docling.utils.accelerator_utils:Accelerator device: 'cpu'\n",
      "INFO:docling.pipeline.base_pipeline:Processing document 070ZNNLE73289_S1097.pdf\n",
      "INFO:docling.document_converter:Finished converting document 070ZNNLE73289_S1097.pdf in 3.94 sec.\n",
      "INFO:__main__:Document converted and tables exported in 3.94 seconds.\n"
     ]
    }
   ],
   "source": [
    "source = \"../070ZNNLE73289_S1097.pdf\"\n",
    "output_dir = \"../scratch_example2\"\n",
    "main(source,output_dir)"
   ]
  }
 ],
 "metadata": {
  "kernelspec": {
   "display_name": "ford_etl",
   "language": "python",
   "name": "python3"
  },
  "language_info": {
   "codemirror_mode": {
    "name": "ipython",
    "version": 3
   },
   "file_extension": ".py",
   "mimetype": "text/x-python",
   "name": "python",
   "nbconvert_exporter": "python",
   "pygments_lexer": "ipython3",
   "version": "3.12.8"
  }
 },
 "nbformat": 4,
 "nbformat_minor": 2
}
